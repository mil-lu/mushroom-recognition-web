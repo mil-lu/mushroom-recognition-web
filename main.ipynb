{
 "cells": [
  {
   "cell_type": "code",
   "execution_count": 1,
   "outputs": [
    {
     "name": "stdout",
     "output_type": "stream",
     "text": [
      "cuda:0\n"
     ]
    },
    {
     "name": "stderr",
     "output_type": "stream",
     "text": [
      "D:\\software\\Anaconda3\\lib\\site-packages\\torchvision\\models\\_utils.py:208: UserWarning: The parameter 'pretrained' is deprecated since 0.13 and may be removed in the future, please use 'weights' instead.\n",
      "  warnings.warn(\n",
      "D:\\software\\Anaconda3\\lib\\site-packages\\torchvision\\models\\_utils.py:223: UserWarning: Arguments other than a weight enum or `None` for 'weights' are deprecated since 0.13 and may be removed in the future. The current behavior is equivalent to passing `weights=ResNet18_Weights.IMAGENET1K_V1`. You can also use `weights=ResNet18_Weights.DEFAULT` to get the most up-to-date weights.\n",
      "  warnings.warn(msg)\n"
     ]
    }
   ],
   "source": [
    "import os\n",
    "import io\n",
    "import json\n",
    "import torch\n",
    "import torchvision.transforms as transforms\n",
    "from PIL import Image\n",
    "from flask import Flask, jsonify, request, render_template\n",
    "from flask_cors import CORS\n",
    "from model import CombinedModel  # 导入 ResNet-ViT 模型\n",
    "\n",
    "app = Flask(__name__)\n",
    "CORS(app)  # 解决跨域问题\n",
    "\n",
    "weights_path = \"D:\\桌面\\deep-learning-for-image-processing-master\\deep-learning-for-image-processing-master\\deploying_service\\deploying_pytorch\\pytorch_flask_service/trained_model_weights.pth\"#权重文件路径\n",
    "class_json_path = \"D:\\桌面\\deep-learning-for-image-processing-master\\deep-learning-for-image-processing-master\\deploying_service\\deploying_pytorch\\pytorch_flask_service/class_indices.json\"#对照表路径\n",
    "assert os.path.exists(weights_path), \"weights path does not exist...\"\n",
    "assert os.path.exists(class_json_path), \"class json path does not exist...\"\n",
    "# select device\n",
    "device = torch.device(\"cuda:0\" if torch.cuda.is_available() else \"cpu\")\n",
    "print(device)\n",
    "\n",
    "# create model\n",
    "model = CombinedModel(num_classes=9).to(device)  # 使用 ResNet-ViT 模型\n",
    "# load model weights\n",
    "model.load_state_dict(torch.load(weights_path, map_location=device))\n",
    "\n",
    "model.eval()\n",
    "\n",
    "# load class info\n",
    "json_file = open(class_json_path, 'rb')\n",
    "class_indict = json.load(json_file)\n",
    "def transform_image(image_bytes):\n",
    "    my_transforms = transforms.Compose([transforms.Resize(255),\n",
    "                                        transforms.CenterCrop(224),\n",
    "                                        transforms.ToTensor(),\n",
    "                                        transforms.Normalize(\n",
    "                                            [0.485, 0.456, 0.406],\n",
    "                                            [0.229, 0.224, 0.225])])\n",
    "    image = Image.open(io.BytesIO(image_bytes))\n",
    "    if image.mode != \"RGB\":\n",
    "        raise ValueError(\"input file does not RGB image...\")\n",
    "    return my_transforms(image).unsqueeze(0).to(device)\n",
    "def get_prediction(image_bytes):\n",
    "    try:\n",
    "        tensor = transform_image(image_bytes=image_bytes)\n",
    "        outputs = torch.softmax(model.forward(tensor).squeeze(), dim=0)\n",
    "        prediction = outputs.detach().cpu().numpy()\n",
    "        template = \"class:{:<15} probability:{:.3f}\"\n",
    "        index_pre = [(class_indict[str(index)], float(p)) for index, p in enumerate(prediction)]\n",
    "        # sort probability\n",
    "        index_pre.sort(key=lambda x: x[1], reverse=True)\n",
    "        text = [template.format(k, v) for k, v in index_pre]\n",
    "        return_info = {\"result\": text}\n",
    "    except Exception as e:\n",
    "        return_info = {\"result\": [str(e)]}\n",
    "    return return_info"
   ],
   "metadata": {
    "collapsed": false
   }
  },
  {
   "cell_type": "code",
   "execution_count": 2,
   "outputs": [],
   "source": [
    "@app.route(\"/predict\", methods=[\"POST\"])\n",
    "@torch.no_grad()\n",
    "def predict():\n",
    "    image = request.files[\"file\"]\n",
    "    img_bytes = image.read()\n",
    "    info = get_prediction(image_bytes=img_bytes)\n",
    "    return jsonify(info)\n",
    "@app.route(\"/up1\", methods=[\"GET\"])\n",
    "def up1():\n",
    "    return render_template(\"up1.html\")\n",
    "@app.route(\"/index\",methods=[\"GET\"])\n",
    "def index():\n",
    "    return render_template(\"index.html\")"
   ],
   "metadata": {
    "collapsed": false
   }
  },
  {
   "cell_type": "code",
   "execution_count": null,
   "outputs": [
    {
     "name": "stdout",
     "output_type": "stream",
     "text": [
      " * Serving Flask app '__main__' (lazy loading)\n",
      " * Environment: production\n",
      "\u001B[31m   WARNING: This is a development server. Do not use it in a production deployment.\u001B[0m\n",
      "\u001B[2m   Use a production WSGI server instead.\u001B[0m\n",
      " * Debug mode: off\n"
     ]
    },
    {
     "name": "stderr",
     "output_type": "stream",
     "text": [
      " * Running on all addresses.\n",
      "   WARNING: This is a development server. Do not use it in a production deployment.\n",
      " * Running on http://192.168.0.114:5000/ (Press CTRL+C to quit)\n",
      "192.168.0.114 - - [09/May/2023 16:21:52] \"GET / HTTP/1.1\" 200 -\n",
      "192.168.0.114 - - [09/May/2023 16:21:52] \"GET /style.css HTTP/1.1\" 404 -\n",
      "192.168.0.114 - - [09/May/2023 16:21:53] \"GET /static/img/霍氏粉褶菌003.jpg HTTP/1.1\" 200 -\n",
      "192.168.0.114 - - [09/May/2023 16:21:53] \"GET /static/img/双孢蘑菇001.jpg HTTP/1.1\" 200 -\n",
      "192.168.0.114 - - [09/May/2023 16:21:53] \"GET /static/img/乳牛肝菌006.jpg HTTP/1.1\" 200 -\n",
      "192.168.0.114 - - [09/May/2023 16:21:53] \"GET /static/img/松乳菌007.jpg HTTP/1.1\" 200 -\n",
      "192.168.0.114 - - [09/May/2023 16:21:53] \"GET /static/img/褪色红菇008.jpg HTTP/1.1\" 200 -\n",
      "192.168.0.114 - - [09/May/2023 16:21:53] \"GET /static/img/掷丝膜菌009.jpg HTTP/1.1\" 200 -\n",
      "192.168.0.114 - - [09/May/2023 16:21:53] \"GET /static/img/浅黄褐湿伞005.jpg HTTP/1.1\" 200 -\n",
      "192.168.0.114 - - [09/May/2023 16:21:53] \"GET /static/img/毒蝇伞002.jpg HTTP/1.1\" 200 -\n",
      "192.168.0.114 - - [09/May/2023 16:21:53] \"GET /static/img/丽柄牛肝菌004.jpg HTTP/1.1\" 200 -\n",
      "192.168.0.114 - - [09/May/2023 16:21:53] \"GET /favicon.ico HTTP/1.1\" 404 -\n",
      "192.168.0.114 - - [09/May/2023 16:21:54] \"GET /up1 HTTP/1.1\" 200 -\n",
      "192.168.0.114 - - [09/May/2023 16:21:54] \"GET /style.css HTTP/1.1\" 404 -\n",
      "192.168.0.114 - - [09/May/2023 16:21:54] \"GET /static/js/jquery.min.js HTTP/1.1\" 200 -\n",
      "192.168.0.114 - - [09/May/2023 16:22:04] \"POST /predict HTTP/1.1\" 200 -\n",
      "192.168.0.114 - - [09/May/2023 16:22:13] \"GET /index HTTP/1.1\" 200 -\n",
      "192.168.0.114 - - [09/May/2023 16:22:13] \"GET /style.css HTTP/1.1\" 404 -\n",
      "192.168.0.114 - - [09/May/2023 16:22:13] \"GET /static/img/双孢蘑菇001.jpg HTTP/1.1\" 304 -\n",
      "192.168.0.114 - - [09/May/2023 16:22:13] \"GET /static/img/毒蝇伞002.jpg HTTP/1.1\" 304 -\n",
      "192.168.0.114 - - [09/May/2023 16:22:13] \"GET /static/img/霍氏粉褶菌003.jpg HTTP/1.1\" 304 -\n",
      "192.168.0.114 - - [09/May/2023 16:22:13] \"GET /static/img/丽柄牛肝菌004.jpg HTTP/1.1\" 304 -\n",
      "192.168.0.114 - - [09/May/2023 16:22:13] \"GET /static/img/浅黄褐湿伞005.jpg HTTP/1.1\" 304 -\n",
      "192.168.0.114 - - [09/May/2023 16:22:13] \"GET /static/img/松乳菌007.jpg HTTP/1.1\" 304 -\n",
      "192.168.0.114 - - [09/May/2023 16:22:13] \"GET /static/img/乳牛肝菌006.jpg HTTP/1.1\" 304 -\n",
      "192.168.0.114 - - [09/May/2023 16:22:13] \"GET /static/img/掷丝膜菌009.jpg HTTP/1.1\" 304 -\n",
      "192.168.0.114 - - [09/May/2023 16:22:13] \"GET /static/img/褪色红菇008.jpg HTTP/1.1\" 304 -\n",
      "192.168.0.114 - - [09/May/2023 16:22:14] \"GET /up1 HTTP/1.1\" 200 -\n",
      "192.168.0.114 - - [09/May/2023 16:22:14] \"GET /style.css HTTP/1.1\" 404 -\n",
      "192.168.0.114 - - [09/May/2023 16:22:14] \"GET /static/js/jquery.min.js HTTP/1.1\" 304 -\n",
      "192.168.0.114 - - [09/May/2023 16:22:16] \"GET /index HTTP/1.1\" 200 -\n",
      "192.168.0.114 - - [09/May/2023 16:22:16] \"GET /style.css HTTP/1.1\" 404 -\n",
      "192.168.0.114 - - [09/May/2023 16:22:16] \"GET /static/img/双孢蘑菇001.jpg HTTP/1.1\" 304 -\n",
      "192.168.0.114 - - [09/May/2023 16:22:16] \"GET /static/img/毒蝇伞002.jpg HTTP/1.1\" 304 -\n",
      "192.168.0.114 - - [09/May/2023 16:22:16] \"GET /static/img/霍氏粉褶菌003.jpg HTTP/1.1\" 304 -\n",
      "192.168.0.114 - - [09/May/2023 16:22:16] \"GET /static/img/丽柄牛肝菌004.jpg HTTP/1.1\" 304 -\n",
      "192.168.0.114 - - [09/May/2023 16:22:16] \"GET /static/img/浅黄褐湿伞005.jpg HTTP/1.1\" 304 -\n",
      "192.168.0.114 - - [09/May/2023 16:22:16] \"GET /static/img/乳牛肝菌006.jpg HTTP/1.1\" 304 -\n",
      "192.168.0.114 - - [09/May/2023 16:22:16] \"GET /static/img/褪色红菇008.jpg HTTP/1.1\" 304 -\n",
      "192.168.0.114 - - [09/May/2023 16:22:16] \"GET /static/img/松乳菌007.jpg HTTP/1.1\" 304 -\n",
      "192.168.0.114 - - [09/May/2023 16:22:16] \"GET /static/img/掷丝膜菌009.jpg HTTP/1.1\" 304 -\n",
      "192.168.0.114 - - [09/May/2023 16:43:02] \"GET /up1 HTTP/1.1\" 200 -\n",
      "192.168.0.114 - - [09/May/2023 16:43:02] \"GET /style.css HTTP/1.1\" 404 -\n",
      "192.168.0.114 - - [09/May/2023 16:43:02] \"GET /static/js/jquery.min.js HTTP/1.1\" 304 -\n",
      "192.168.0.114 - - [09/May/2023 16:43:08] \"POST /predict HTTP/1.1\" 200 -\n",
      "192.168.0.114 - - [09/May/2023 16:43:16] \"POST /predict HTTP/1.1\" 200 -\n",
      "192.168.0.114 - - [09/May/2023 16:43:22] \"POST /predict HTTP/1.1\" 200 -\n",
      "192.168.0.114 - - [09/May/2023 16:43:47] \"POST /predict HTTP/1.1\" 200 -\n",
      "192.168.0.114 - - [09/May/2023 16:43:56] \"POST /predict HTTP/1.1\" 200 -\n",
      "192.168.0.114 - - [09/May/2023 16:44:04] \"POST /predict HTTP/1.1\" 200 -\n",
      "192.168.0.114 - - [09/May/2023 16:44:10] \"POST /predict HTTP/1.1\" 200 -\n",
      "192.168.0.114 - - [09/May/2023 16:44:18] \"POST /predict HTTP/1.1\" 200 -\n",
      "192.168.0.114 - - [09/May/2023 16:44:27] \"POST /predict HTTP/1.1\" 200 -\n",
      "192.168.0.114 - - [09/May/2023 16:44:35] \"POST /predict HTTP/1.1\" 200 -\n",
      "192.168.0.114 - - [09/May/2023 16:44:42] \"POST /predict HTTP/1.1\" 200 -\n",
      "192.168.0.114 - - [09/May/2023 16:44:43] \"POST /predict HTTP/1.1\" 200 -\n",
      "192.168.0.114 - - [09/May/2023 16:44:52] \"POST /predict HTTP/1.1\" 200 -\n",
      "192.168.0.114 - - [09/May/2023 16:45:04] \"POST /predict HTTP/1.1\" 200 -\n",
      "192.168.0.114 - - [09/May/2023 16:45:13] \"POST /predict HTTP/1.1\" 200 -\n",
      "192.168.0.114 - - [09/May/2023 16:45:19] \"POST /predict HTTP/1.1\" 200 -\n",
      "192.168.0.114 - - [09/May/2023 16:45:23] \"POST /predict HTTP/1.1\" 200 -\n",
      "192.168.0.114 - - [09/May/2023 16:45:27] \"POST /predict HTTP/1.1\" 200 -\n",
      "192.168.0.114 - - [09/May/2023 16:45:28] \"POST /predict HTTP/1.1\" 200 -\n",
      "192.168.0.114 - - [09/May/2023 16:45:53] \"POST /predict HTTP/1.1\" 200 -\n",
      "192.168.0.114 - - [09/May/2023 16:45:56] \"POST /predict HTTP/1.1\" 200 -\n",
      "192.168.0.114 - - [09/May/2023 16:46:05] \"POST /predict HTTP/1.1\" 200 -\n",
      "192.168.0.114 - - [09/May/2023 16:46:12] \"POST /predict HTTP/1.1\" 200 -\n",
      "192.168.0.114 - - [09/May/2023 16:46:23] \"POST /predict HTTP/1.1\" 200 -\n"
     ]
    }
   ],
   "source": [
    "@app.route(\"/\", methods=[\"GET\", \"POST\"])\n",
    "def root():\n",
    "    return render_template(\"index.html\")\n",
    "\n",
    "\n",
    "if __name__ == '__main__':\n",
    "    app.run(host=\"0.0.0.0\", port=5000)\n"
   ],
   "metadata": {
    "collapsed": false,
    "pycharm": {
     "is_executing": true
    }
   }
  }
 ],
 "metadata": {
  "kernelspec": {
   "display_name": "Python 3",
   "language": "python",
   "name": "python3"
  },
  "language_info": {
   "codemirror_mode": {
    "name": "ipython",
    "version": 2
   },
   "file_extension": ".py",
   "mimetype": "text/x-python",
   "name": "python",
   "nbconvert_exporter": "python",
   "pygments_lexer": "ipython2",
   "version": "2.7.6"
  }
 },
 "nbformat": 4,
 "nbformat_minor": 0
}
